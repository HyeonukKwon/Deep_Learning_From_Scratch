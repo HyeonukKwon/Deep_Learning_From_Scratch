{
  "nbformat": 4,
  "nbformat_minor": 0,
  "metadata": {
    "colab": {
      "provenance": [],
      "authorship_tag": "ABX9TyMq9KjovykB7+Teqver38a7",
      "include_colab_link": true
    },
    "kernelspec": {
      "name": "python3",
      "display_name": "Python 3"
    },
    "language_info": {
      "name": "python"
    }
  },
  "cells": [
    {
      "cell_type": "markdown",
      "metadata": {
        "id": "view-in-github",
        "colab_type": "text"
      },
      "source": [
        "<a href=\"https://colab.research.google.com/github/HyeonukKwon/Deep_Learning_From_Scratch/blob/main/%EB%B0%91%EB%B0%94%EB%8B%A5%EB%B6%80%ED%84%B0_%EC%8B%9C%EC%9E%91%ED%95%98%EB%8A%94_%EB%94%A5%EB%9F%AC%EB%8B%9D_2.ipynb\" target=\"_parent\"><img src=\"https://colab.research.google.com/assets/colab-badge.svg\" alt=\"Open In Colab\"/></a>"
      ]
    },
    {
      "cell_type": "markdown",
      "source": [
        "# 2.3.1 간단한 구현부터"
      ],
      "metadata": {
        "id": "YE5yxso_gHY3"
      }
    },
    {
      "cell_type": "code",
      "source": [
        "import numpy as np\n",
        "\n",
        "def AND(x1, x2):\n",
        "    w1, w2, theta = 0.5, 0.5, 0.7\n",
        "    tmp = x1 * w1 + x2 * w2\n",
        "    if tmp <= theta:\n",
        "        return 0\n",
        "    elif tmp > theta:\n",
        "        return 1\n",
        "\n"
      ],
      "metadata": {
        "id": "cQoErKNleRBJ"
      },
      "execution_count": 4,
      "outputs": []
    },
    {
      "cell_type": "code",
      "source": [
        "AND(0,1)"
      ],
      "metadata": {
        "colab": {
          "base_uri": "https://localhost:8080/"
        },
        "id": "d43RZ6hgeSyQ",
        "outputId": "7ef9aa42-beb3-401f-ee06-836fa105d7d3"
      },
      "execution_count": 9,
      "outputs": [
        {
          "output_type": "execute_result",
          "data": {
            "text/plain": [
              "0"
            ]
          },
          "metadata": {},
          "execution_count": 9
        }
      ]
    },
    {
      "cell_type": "code",
      "source": [
        "AND(1,0)"
      ],
      "metadata": {
        "colab": {
          "base_uri": "https://localhost:8080/"
        },
        "id": "6pF26aamewbG",
        "outputId": "a9a1390e-492e-4fe4-8f8d-0047460ae84e"
      },
      "execution_count": 10,
      "outputs": [
        {
          "output_type": "execute_result",
          "data": {
            "text/plain": [
              "0"
            ]
          },
          "metadata": {},
          "execution_count": 10
        }
      ]
    },
    {
      "cell_type": "code",
      "source": [
        "AND(1,1)"
      ],
      "metadata": {
        "colab": {
          "base_uri": "https://localhost:8080/"
        },
        "id": "9e7tp_igexoG",
        "outputId": "3ec006bf-3ca2-40e4-d4c7-dfcf9a5e9383"
      },
      "execution_count": 11,
      "outputs": [
        {
          "output_type": "execute_result",
          "data": {
            "text/plain": [
              "1"
            ]
          },
          "metadata": {},
          "execution_count": 11
        }
      ]
    },
    {
      "cell_type": "markdown",
      "source": [
        "# 2.3.2 가중치와 편향 도입"
      ],
      "metadata": {
        "id": "HIr89uYLgO47"
      }
    },
    {
      "cell_type": "code",
      "source": [
        "# 2.3.2 가중치와 편향 도입\n",
        "x = np.array([0, 1])  # 입력\n",
        "w = np.array([0.5, 0.5])  # 가중치\n",
        "b = -0.7  # 편향\n",
        "\n",
        "print(w * x)                # [0. 0.5]\n",
        "print(np.sum(w * x))        # 0.5\n",
        "print(np.sum(w * x) + b)    # -0.2"
      ],
      "metadata": {
        "colab": {
          "base_uri": "https://localhost:8080/"
        },
        "id": "GKAH2Ev_gRl1",
        "outputId": "ee71acb0-c3d3-41d2-9c11-4bf71e3f4748"
      },
      "execution_count": 6,
      "outputs": [
        {
          "output_type": "stream",
          "name": "stdout",
          "text": [
            "[0.  0.5]\n",
            "0.5\n",
            "-0.19999999999999996\n"
          ]
        }
      ]
    },
    {
      "cell_type": "markdown",
      "source": [
        "# 2.3.3 가중치와 편향 구현하기"
      ],
      "metadata": {
        "id": "_36FUO_2gF2L"
      }
    },
    {
      "cell_type": "code",
      "source": [
        "# 2.3.3 가중치와 편향 구현하기\n",
        "def AND(x1, x2):\n",
        "    x = np.array([x1, x2])\n",
        "    w = np.array([0.5, 0.5])\n",
        "    b = -0.7\n",
        "    tmp = np.sum(w * x) + b\n",
        "    if tmp <= 0:\n",
        "        return 0\n",
        "    else:\n",
        "        return 1\n",
        "\n",
        "\n",
        "def NAND(x1, x2):\n",
        "    x = np.array([x1, x2])\n",
        "    w = np.array([-0.5, -0.5])  # AND와는 가중치(w, b)만 다르다\n",
        "    b = 0.7\n",
        "    tmp = np.sum(w * x) + b\n",
        "    if tmp <= 0:\n",
        "        return 0\n",
        "    else:\n",
        "        return 1\n",
        "\n",
        "\n",
        "def OR(x1, x2):\n",
        "    x = np.array([x1, x2])\n",
        "    w = np.array([0.5, 0.5])  # AND와는 가중치(w, b)만 다르다\n",
        "    b = -0.2\n",
        "    tmp = np.sum(w * x) + b\n",
        "    if tmp <= 0:\n",
        "        return 0\n",
        "    else:\n",
        "        return 1\n",
        "\n",
        "\n",
        "print(\"AND\")\n",
        "print(AND(0, 0))  # 0\n",
        "print(AND(0, 1))  # 0\n",
        "print(AND(1, 0))  # 0\n",
        "print(AND(1, 1))  # 1\n",
        "\n",
        "print(\"NAND\")\n",
        "print(NAND(0, 0))  # 1\n",
        "print(NAND(0, 1))  # 1\n",
        "print(NAND(1, 0))  # 1\n",
        "print(NAND(1, 1))  # 0\n",
        "\n",
        "print(\"OR\")\n",
        "print(OR(0, 0))  # 0\n",
        "print(OR(0, 1))  # 1\n",
        "print(OR(1, 0))  # 1\n",
        "print(OR(1, 1))  # 1"
      ],
      "metadata": {
        "colab": {
          "base_uri": "https://localhost:8080/"
        },
        "id": "g-3G6vpYfYoI",
        "outputId": "4bf8e35e-1b19-4f21-d096-e58caa0fca89"
      },
      "execution_count": 7,
      "outputs": [
        {
          "output_type": "stream",
          "name": "stdout",
          "text": [
            "AND\n",
            "0\n",
            "0\n",
            "0\n",
            "1\n",
            "NAND\n",
            "1\n",
            "1\n",
            "1\n",
            "0\n",
            "OR\n",
            "0\n",
            "1\n",
            "1\n",
            "1\n"
          ]
        }
      ]
    },
    {
      "cell_type": "markdown",
      "source": [
        "# 2.4.1 XOR\n",
        "'''\n",
        "XOR게이트는 단층(선형) 퍼셉트론으로는 구현 불가능하다.\n",
        " = 단층 퍼셉트론으로는 비선형 영역을 분리할 수 없다.\n",
        "다층 퍼셉트론multi-layer perceptron을 통해 구현 가능\n",
        "'''"
      ],
      "metadata": {
        "id": "gv2ju6cJf4pR"
      }
    },
    {
      "cell_type": "markdown",
      "source": [
        "# 2.5.1 기존 게이트 조합하기\n",
        "### XOR(x1, x2) = AND(NAND(x1, x2), OR(x1, x2))"
      ],
      "metadata": {
        "id": "I6wptVI5gWHS"
      }
    },
    {
      "cell_type": "markdown",
      "source": [
        "# 2.5.2 XOR 게이트 구현하기"
      ],
      "metadata": {
        "id": "ZPgGPmTWgZQ1"
      }
    },
    {
      "cell_type": "code",
      "source": [
        "def XOR(x1, x2):\n",
        "    s1 = NAND(x1, x2)\n",
        "    s2 = OR(x1, x2)\n",
        "    y = AND(s1, s2)\n",
        "    return y\n",
        "\n",
        "\n",
        "print(\"XOR\")\n",
        "print(XOR(0, 0))  # 0\n",
        "print(XOR(0, 1))  # 1\n",
        "print(XOR(1, 0))  # 1\n",
        "print(XOR(1, 1))  # 0\n",
        "\n",
        "# XOR은 2층 퍼셉트론이다.\n",
        "# 2층 퍼셉트론(=비선형 시그노이드 함수)를 활성화 함수로 사용하면\n",
        "# 임의의 함수를 표현할 수 있다는 사실이 증명되어 있다."
      ],
      "metadata": {
        "colab": {
          "base_uri": "https://localhost:8080/"
        },
        "id": "baupHW86gY0t",
        "outputId": "198c3f76-dbf7-40ab-add2-6b6094f55968"
      },
      "execution_count": 8,
      "outputs": [
        {
          "output_type": "stream",
          "name": "stdout",
          "text": [
            "XOR\n",
            "0\n",
            "1\n",
            "1\n",
            "0\n"
          ]
        }
      ]
    },
    {
      "cell_type": "code",
      "source": [],
      "metadata": {
        "id": "4ye1p3C4rWWz"
      },
      "execution_count": 8,
      "outputs": []
    }
  ]
}